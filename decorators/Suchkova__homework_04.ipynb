{
 "cells": [
  {
   "cell_type": "markdown",
   "metadata": {
    "id": "QY4qPJPpgyIS"
   },
   "source": [
    "# Домашнее задание: декораторы"
   ]
  },
  {
   "cell_type": "markdown",
   "metadata": {
    "id": "Chacc6YchldZ"
   },
   "source": [
    "## Импорт библиотек, установка констант"
   ]
  },
  {
   "cell_type": "code",
   "execution_count": 3,
   "metadata": {
    "id": "w8iKrWvwhrFd"
   },
   "outputs": [],
   "source": [
    "import requests\n",
    "import time\n",
    "import re\n",
    "\n",
    "from random import randint"
   ]
  },
  {
   "cell_type": "code",
   "execution_count": 4,
   "metadata": {
    "id": "-LRkS0fSi8Np"
   },
   "outputs": [],
   "source": [
    "BOOK_PATH = 'https://www.gutenberg.org/files/2638/2638-0.txt'"
   ]
  },
  {
   "cell_type": "markdown",
   "metadata": {
    "id": "kARfL8ifg4MH"
   },
   "source": [
    "## Задание 1"
   ]
  },
  {
   "cell_type": "code",
   "execution_count": 6,
   "metadata": {
    "id": "hNHNWPhngrUl"
   },
   "outputs": [],
   "source": [
    "def benchmark(func):\n",
    "    \"\"\"\n",
    "    Декоратор, выводящий время, которое заняло выполнение декорируемой функции\n",
    "    \"\"\"\n",
    "\n",
    "    def wrapper(*args, **kwargs):\n",
    "        start = time.perf_counter() \n",
    "        result = func(*args, **kwargs)\n",
    "        end = time.perf_counter() \n",
    "        print(f'Время выполнения функции word_count: {end - start:.17f} ')\n",
    "        return result\n",
    "\n",
    "    return wrapper"
   ]
  },
  {
   "cell_type": "markdown",
   "metadata": {
    "id": "tGlbUKjihL5n"
   },
   "source": [
    "## Задание 2"
   ]
  },
  {
   "cell_type": "code",
   "execution_count": 15,
   "metadata": {
    "id": "wugOZDLqhNe-"
   },
   "outputs": [],
   "source": [
    "def logging(func):\n",
    "    \"\"\"\n",
    "    Декоратор, который выводит параметры с которыми была вызвана функция\n",
    "    \"\"\"\n",
    "\n",
    "    def wrapper(*args, **kwargs):\n",
    "        #  print(f\"Функция вызвана с параметрами: {', '.join(str(a) for a in args)}, {', '.join(str(b) for b in kwargs)}\")\n",
    "           print(f\"Функция вызвана с параметрами: {args}, {kwargs}\")\n",
    "           return func(*args, **kwargs)\n",
    "           \n",
    "    return wrapper"
   ]
  },
  {
   "cell_type": "markdown",
   "metadata": {
    "id": "Sq1tv5fshTfv"
   },
   "source": [
    "## Задание 3"
   ]
  },
  {
   "cell_type": "code",
   "execution_count": 14,
   "metadata": {
    "id": "9nyvuxXkhVeb"
   },
   "outputs": [],
   "source": [
    "def counter(func):\n",
    "    \"\"\"\n",
    "    Декоратор, считающий и выводящий количество вызовов декорируемой функции\n",
    "    \"\"\"\n",
    "    def wrapper(*args, **kwargs):\n",
    "        wrapper.calls+=1\n",
    "        print(f\"Функция была вызвана: {wrapper.calls} раз\")\n",
    "        return func(*args, **kwargs)\n",
    "    wrapper.calls = 0   \n",
    "    return wrapper"
   ]
  },
  {
   "cell_type": "markdown",
   "metadata": {
    "id": "uHn8Adfshz5q"
   },
   "source": [
    "## Задание 4"
   ]
  },
  {
   "cell_type": "code",
   "execution_count": 36,
   "metadata": {
    "id": "R7uu6WtGifNX"
   },
   "outputs": [],
   "source": [
    "def memo(func):\n",
    "  \"\"\"\n",
    "  Декоратор, запоминающий результаты исполнения функции func, чьи аргументы args должны быть хешируемыми\n",
    "  \"\"\"\n",
    "  cache = {}\n",
    "\n",
    "  def fmemo(*args):\n",
    "    if args in cache:\n",
    "        return cache[args]\n",
    "    else:\n",
    "        cache[args] = func(*args)\n",
    "    return cache[args]\n",
    "  fmemo.cache = cache\n",
    "  return fmemo"
   ]
  },
  {
   "cell_type": "markdown",
   "metadata": {
    "id": "Zn5UQCa_izxo"
   },
   "source": [
    "## Тестирование"
   ]
  },
  {
   "cell_type": "code",
   "execution_count": 16,
   "metadata": {
    "colab": {
     "base_uri": "https://localhost:8080/",
     "height": 211
    },
    "id": "CHCJ64I8i2QB",
    "outputId": "f94e39d9-1773-4c8d-eb94-7c04cca469a8"
   },
   "outputs": [
    {
     "name": "stdout",
     "output_type": "stream",
     "text": [
      "Функция была вызвана: 1 раз\n",
      "Функция вызвана с параметрами: ('whole',), {}\n",
      "Время выполнения функции word_count: 5.69087063400002080 \n",
      "Cлово whole встречается 176 раз\n"
     ]
    }
   ],
   "source": [
    "@counter\n",
    "@logging\n",
    "@benchmark\n",
    "def word_count(word, url=BOOK_PATH):\n",
    "    \"\"\"\n",
    "    Функция для посчета указанного слова на html-странице\n",
    "    \"\"\"\n",
    "\n",
    "    # отправляем запрос в библиотеку Gutenberg и забираем текст\n",
    "    raw = requests.get(url).text\n",
    "\n",
    "    # заменяем в тексте все небуквенные символы на пробелы\n",
    "    processed_book = re.sub('[\\W]+' , ' ', raw).lower()\n",
    "\n",
    "    # считаем\n",
    "    cnt = len(re.findall(word.lower(), processed_book))\n",
    "\n",
    "    return f\"Cлово {word} встречается {cnt} раз\"\n",
    "\n",
    "print(word_count('whole'))"
   ]
  },
  {
   "cell_type": "code",
   "execution_count": 52,
   "metadata": {
    "id": "W9B3e-t9iTUj"
   },
   "outputs": [
    {
     "name": "stdout",
     "output_type": "stream",
     "text": [
      "Время выполнения функции word_count: 0.00000520499997947 \n",
      "Время выполнения функции word_count: 0.00000541500048712 \n",
      "Время выполнения функции word_count: 0.00000720000025467 \n",
      "Время выполнения функции word_count: 0.00032495800041943 \n",
      "Время выполнения функции word_count: 0.00419724499988661 \n",
      "Время выполнения функции word_count: 0.00000409499989473 \n",
      "Время выполнения функции word_count: 0.00000427000122727 \n",
      "Время выполнения функции word_count: 0.00022519199956150 \n",
      "Время выполнения функции word_count: 0.00000577500031795 \n",
      "Время выполнения функции word_count: 0.00000600500061410 \n",
      "Время выполнения функции word_count: 0.00000487500074087 \n",
      "Время выполнения функции word_count: 0.00025529699996696 \n",
      "Время выполнения функции word_count: 0.00050658399959502 \n",
      "Время выполнения функции word_count: 0.00098858299861604 \n",
      "Время выполнения функции word_count: 0.00544844999967609 \n",
      "Время выполнения функции word_count: 0.00000291500145977 \n",
      "Время выполнения функции word_count: 0.00000358000033884 \n",
      "Время выполнения функции word_count: 0.00023556700034533 \n",
      "Время выполнения функции word_count: 0.00000238999928115 \n",
      "Время выполнения функции word_count: 0.00000288499904855 \n",
      "Время выполнения функции word_count: 0.00000274000012723 \n",
      "Время выполнения функции word_count: 0.00015513600010308 \n",
      "Время выполнения функции word_count: 0.00030459800109384 \n",
      "Время выполнения функции word_count: 0.00068812599965895 \n",
      "Время выполнения функции word_count: 0.00000241000088863 \n",
      "Время выполнения функции word_count: 0.00000232999991567 \n",
      "Время выполнения функции word_count: 0.00000288000046567 \n",
      "Время выполнения функции word_count: 0.00015714699839009 \n",
      "Время выполнения функции word_count: 0.00030690200037498 \n",
      "Время выполнения функции word_count: 0.00000231000012718 \n",
      "Время выполнения функции word_count: 0.00000279500090983 \n",
      "Время выполнения функции word_count: 0.00015105600141396 \n",
      "Время выполнения функции word_count: 0.00000245000046561 \n",
      "Время выполнения функции word_count: 0.00000302999978885 \n",
      "Время выполнения функции word_count: 0.00000263999936578 \n",
      "Время выполнения функции word_count: 0.00015369100037788 \n",
      "Время выполнения функции word_count: 0.00030948699895816 \n",
      "Время выполнения функции word_count: 0.00064532000033068 \n",
      "Время выполнения функции word_count: 0.00116723999963142 \n",
      "Время выполнения функции word_count: 0.00207046299874492 \n",
      "Время выполнения функции word_count: 0.00778677000016614 \n"
     ]
    },
    {
     "data": {
      "text/plain": [
       "13"
      ]
     },
     "execution_count": 52,
     "metadata": {},
     "output_type": "execute_result"
    }
   ],
   "source": [
    "# измеряем время выполнения без декоратора кеширования\n",
    "@benchmark\n",
    "def fib(n):\n",
    "    if n < 2:\n",
    "        return n\n",
    "    return fib(n-2) + fib(n-1)\n",
    "fib(7)"
   ]
  },
  {
   "cell_type": "code",
   "execution_count": 53,
   "metadata": {
    "id": "W9B3e-t9iTUj"
   },
   "outputs": [
    {
     "name": "stdout",
     "output_type": "stream",
     "text": [
      "Время выполнения функции word_count: 0.00000305499997921 \n",
      "Время выполнения функции word_count: 0.00000329000067723 \n",
      "Время выполнения функции word_count: 0.00010774600013974 \n",
      "Время выполнения функции word_count: 0.00054885499957891 \n",
      "Время выполнения функции word_count: 0.00000758500027587 \n",
      "Время выполнения функции word_count: 0.00071828599902801 \n",
      "Время выполнения функции word_count: 0.00000723999983165 \n",
      "Время выполнения функции word_count: 0.00089487200057192 \n"
     ]
    },
    {
     "data": {
      "text/plain": [
       "13"
      ]
     },
     "execution_count": 53,
     "metadata": {},
     "output_type": "execute_result"
    }
   ],
   "source": [
    "# измеряем время выполнения c декоратором кеширования\n",
    "@memo\n",
    "@benchmark\n",
    "def fib(n):\n",
    "    if n < 2:\n",
    "        return n\n",
    "    return fib(n-2) + fib(n-1)\n",
    "fib(7)"
   ]
  },
  {
   "cell_type": "code",
   "execution_count": 54,
   "metadata": {},
   "outputs": [],
   "source": [
    "import functools\n",
    "from functools import lru_cache"
   ]
  },
  {
   "cell_type": "code",
   "execution_count": 55,
   "metadata": {
    "id": "Io94NyjiiXG4"
   },
   "outputs": [
    {
     "name": "stdout",
     "output_type": "stream",
     "text": [
      "Время выполнения функции word_count: 0.00000570600059291 \n",
      "Время выполнения функции word_count: 0.00000589499904891 \n",
      "Время выполнения функции word_count: 0.00026224200155411 \n",
      "Время выполнения функции word_count: 0.00106982899887953 \n",
      "Время выполнения функции word_count: 0.00001128500116465 \n",
      "Время выполнения функции word_count: 0.00138229699950898 \n",
      "Время выполнения функции word_count: 0.00001126499955717 \n",
      "Время выполнения функции word_count: 0.00169290399935562 \n"
     ]
    },
    {
     "data": {
      "text/plain": [
       "13"
      ]
     },
     "execution_count": 55,
     "metadata": {},
     "output_type": "execute_result"
    }
   ],
   "source": [
    "# измеряем время выполнения с импортированным декоратом кеширования\n",
    "@lru_cache()\n",
    "@benchmark\n",
    "def fib(n):\n",
    "    if n < 2:\n",
    "        return n\n",
    "    return fib(n-2) + fib(n-1)\n",
    "fib(7)"
   ]
  },
  {
   "cell_type": "code",
   "execution_count": null,
   "metadata": {},
   "outputs": [],
   "source": []
  }
 ],
 "metadata": {
  "colab": {
   "provenance": []
  },
  "kernelspec": {
   "display_name": "Python 3 (ipykernel)",
   "language": "python",
   "name": "python3"
  },
  "language_info": {
   "codemirror_mode": {
    "name": "ipython",
    "version": 3
   },
   "file_extension": ".py",
   "mimetype": "text/x-python",
   "name": "python",
   "nbconvert_exporter": "python",
   "pygments_lexer": "ipython3",
   "version": "3.10.12"
  }
 },
 "nbformat": 4,
 "nbformat_minor": 4
}
